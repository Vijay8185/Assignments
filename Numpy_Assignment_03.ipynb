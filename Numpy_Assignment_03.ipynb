{
  "nbformat": 4,
  "nbformat_minor": 0,
  "metadata": {
    "colab": {
      "provenance": [],
      "authorship_tag": "ABX9TyNXhx8FpWcgABJ8g9NLLDBZ",
      "include_colab_link": true
    },
    "kernelspec": {
      "name": "python3",
      "display_name": "Python 3"
    },
    "language_info": {
      "name": "python"
    }
  },
  "cells": [
    {
      "cell_type": "markdown",
      "metadata": {
        "id": "view-in-github",
        "colab_type": "text"
      },
      "source": [
        "<a href=\"https://colab.research.google.com/github/Vijay8185/Assignments/blob/main/Numpy_Assignment_03.ipynb\" target=\"_parent\"><img src=\"https://colab.research.google.com/assets/colab-badge.svg\" alt=\"Open In Colab\"/></a>"
      ]
    },
    {
      "cell_type": "code",
      "execution_count": null,
      "metadata": {
        "id": "eNYHc5DnHhXU"
      },
      "outputs": [],
      "source": []
    },
    {
      "cell_type": "markdown",
      "source": [
        "# Assignment: Add -2 in each row"
      ],
      "metadata": {
        "id": "aFvO5y2kHpMJ"
      }
    },
    {
      "cell_type": "code",
      "source": [
        "import numpy as np"
      ],
      "metadata": {
        "id": "ugun8k_7Hp4x"
      },
      "execution_count": 1,
      "outputs": []
    },
    {
      "cell_type": "code",
      "source": [
        "a = np.random.random((3,4))"
      ],
      "metadata": {
        "id": "wTMMf_T_Hssm"
      },
      "execution_count": 4,
      "outputs": []
    },
    {
      "cell_type": "code",
      "source": [
        "a"
      ],
      "metadata": {
        "colab": {
          "base_uri": "https://localhost:8080/"
        },
        "id": "Ha0NYsIfH09J",
        "outputId": "a40c0b6d-8a0b-4ceb-bc77-dd46ceb68c8a"
      },
      "execution_count": 5,
      "outputs": [
        {
          "output_type": "execute_result",
          "data": {
            "text/plain": [
              "array([[0.92189805, 0.33484499, 0.96936773, 0.89268139],\n",
              "       [0.20233927, 0.4312342 , 0.04219961, 0.80379747],\n",
              "       [0.60065342, 0.08643661, 0.98118408, 0.62229175]])"
            ]
          },
          "metadata": {},
          "execution_count": 5
        }
      ]
    },
    {
      "cell_type": "code",
      "source": [
        "np.append(a,[[-2],[-2],[-2]],axis=1)"
      ],
      "metadata": {
        "colab": {
          "base_uri": "https://localhost:8080/"
        },
        "id": "m9XnGD_sOjPL",
        "outputId": "4358a913-8dfe-4e69-9044-0a0f69d428f8"
      },
      "execution_count": 20,
      "outputs": [
        {
          "output_type": "execute_result",
          "data": {
            "text/plain": [
              "array([[ 0.92189805,  0.33484499,  0.96936773,  0.89268139, -2.        ],\n",
              "       [ 0.20233927,  0.4312342 ,  0.04219961,  0.80379747, -2.        ],\n",
              "       [ 0.60065342,  0.08643661,  0.98118408,  0.62229175, -2.        ]])"
            ]
          },
          "metadata": {},
          "execution_count": 20
        }
      ]
    },
    {
      "cell_type": "code",
      "source": [],
      "metadata": {
        "id": "8KXDgsAtPPYd"
      },
      "execution_count": null,
      "outputs": []
    }
  ]
}