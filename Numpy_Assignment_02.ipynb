{
  "nbformat": 4,
  "nbformat_minor": 0,
  "metadata": {
    "colab": {
      "provenance": [],
      "authorship_tag": "ABX9TyNjvUKbTP6+X8TyFxYuuNSC",
      "include_colab_link": true
    },
    "kernelspec": {
      "name": "python3",
      "display_name": "Python 3"
    },
    "language_info": {
      "name": "python"
    }
  },
  "cells": [
    {
      "cell_type": "markdown",
      "metadata": {
        "id": "view-in-github",
        "colab_type": "text"
      },
      "source": [
        "<a href=\"https://colab.research.google.com/github/Vijay8185/Assignments/blob/main/Numpy_Assignment_02.ipynb\" target=\"_parent\"><img src=\"https://colab.research.google.com/assets/colab-badge.svg\" alt=\"Open In Colab\"/></a>"
      ]
    },
    {
      "cell_type": "code",
      "execution_count": 4,
      "metadata": {
        "id": "hB_teLwmbmPC"
      },
      "outputs": [],
      "source": [
        "import numpy as np"
      ]
    },
    {
      "cell_type": "code",
      "source": [
        "a = np.random.randn(4,4)"
      ],
      "metadata": {
        "id": "pGpD-xgSccpQ"
      },
      "execution_count": 5,
      "outputs": []
    },
    {
      "cell_type": "code",
      "source": [
        "a"
      ],
      "metadata": {
        "colab": {
          "base_uri": "https://localhost:8080/"
        },
        "id": "Nk6L_XuXcmPG",
        "outputId": "3c54623f-48c7-401e-ed65-1c1f121cbb1c"
      },
      "execution_count": 6,
      "outputs": [
        {
          "output_type": "execute_result",
          "data": {
            "text/plain": [
              "array([[-0.74789164, -0.21159242, -0.02605443,  0.91506352],\n",
              "       [ 0.30173713,  0.67998034, -0.45460897,  0.45847381],\n",
              "       [ 3.38612264,  0.9280185 ,  0.66630309, -0.80235304],\n",
              "       [-0.06153676,  0.97151226,  0.92292795,  0.0073727 ]])"
            ]
          },
          "metadata": {},
          "execution_count": 6
        }
      ]
    },
    {
      "cell_type": "code",
      "source": [],
      "metadata": {
        "id": "qA5RZkiYcnL9"
      },
      "execution_count": null,
      "outputs": []
    },
    {
      "cell_type": "markdown",
      "source": [
        "# Assignment\n",
        "(A)"
      ],
      "metadata": {
        "id": "0YdDf19Kcr95"
      }
    },
    {
      "cell_type": "code",
      "source": [
        "a"
      ],
      "metadata": {
        "colab": {
          "base_uri": "https://localhost:8080/"
        },
        "id": "0zsKtlv_cxKD",
        "outputId": "d61c8c65-aa28-4925-80fd-950b22a301f0"
      },
      "execution_count": 7,
      "outputs": [
        {
          "output_type": "execute_result",
          "data": {
            "text/plain": [
              "array([[-0.74789164, -0.21159242, -0.02605443,  0.91506352],\n",
              "       [ 0.30173713,  0.67998034, -0.45460897,  0.45847381],\n",
              "       [ 3.38612264,  0.9280185 ,  0.66630309, -0.80235304],\n",
              "       [-0.06153676,  0.97151226,  0.92292795,  0.0073727 ]])"
            ]
          },
          "metadata": {},
          "execution_count": 7
        }
      ]
    },
    {
      "cell_type": "code",
      "source": [
        "# row no.3 & row.4\n",
        "a[2::1]"
      ],
      "metadata": {
        "colab": {
          "base_uri": "https://localhost:8080/"
        },
        "id": "sLhB40fhc1Ks",
        "outputId": "997b2bbb-3048-4685-f113-31f884320355"
      },
      "execution_count": 8,
      "outputs": [
        {
          "output_type": "execute_result",
          "data": {
            "text/plain": [
              "array([[ 3.38612264,  0.9280185 ,  0.66630309, -0.80235304],\n",
              "       [-0.06153676,  0.97151226,  0.92292795,  0.0073727 ]])"
            ]
          },
          "metadata": {},
          "execution_count": 8
        }
      ]
    },
    {
      "cell_type": "code",
      "source": [
        "# middle two rows i.e. row no.2 & row no.3\n",
        "a = np.random.randn(4,4)"
      ],
      "metadata": {
        "id": "qKL8UafhdW7n"
      },
      "execution_count": 9,
      "outputs": []
    },
    {
      "cell_type": "code",
      "source": [
        "a"
      ],
      "metadata": {
        "colab": {
          "base_uri": "https://localhost:8080/"
        },
        "id": "Igjaxgq0iTnM",
        "outputId": "ddb4e22a-6150-4eb2-cc14-1e9d265635a2"
      },
      "execution_count": 10,
      "outputs": [
        {
          "output_type": "execute_result",
          "data": {
            "text/plain": [
              "array([[-1.11095902, -1.80368128, -0.8754608 ,  0.41675453],\n",
              "       [ 0.88033695, -0.52600389, -1.08331249, -0.61914926],\n",
              "       [ 0.05428123, -0.27179897, -0.25238306, -0.30980076],\n",
              "       [-1.19012593, -0.72546048, -0.14041315,  0.30744875]])"
            ]
          },
          "metadata": {},
          "execution_count": 10
        }
      ]
    },
    {
      "cell_type": "code",
      "source": [
        "a = a[[1,2]]"
      ],
      "metadata": {
        "id": "lspFWDKCjcG2"
      },
      "execution_count": 11,
      "outputs": []
    },
    {
      "cell_type": "code",
      "source": [
        "a"
      ],
      "metadata": {
        "colab": {
          "base_uri": "https://localhost:8080/"
        },
        "id": "XNLMD4iXjoRj",
        "outputId": "adc3deb1-1f47-4d46-8e41-1892cdd0c452"
      },
      "execution_count": 12,
      "outputs": [
        {
          "output_type": "execute_result",
          "data": {
            "text/plain": [
              "array([[ 0.88033695, -0.52600389, -1.08331249, -0.61914926],\n",
              "       [ 0.05428123, -0.27179897, -0.25238306, -0.30980076]])"
            ]
          },
          "metadata": {},
          "execution_count": 12
        }
      ]
    },
    {
      "cell_type": "code",
      "source": [
        "# 1st & last row\n",
        "a = np.random.randn(4,4)"
      ],
      "metadata": {
        "id": "OXp8k2K7lpaC"
      },
      "execution_count": 13,
      "outputs": []
    },
    {
      "cell_type": "code",
      "source": [
        "a"
      ],
      "metadata": {
        "colab": {
          "base_uri": "https://localhost:8080/"
        },
        "id": "ISr90Qqtl0BJ",
        "outputId": "abe8ef8e-df1e-4da8-df49-5ea40a1baf6a"
      },
      "execution_count": 14,
      "outputs": [
        {
          "output_type": "execute_result",
          "data": {
            "text/plain": [
              "array([[ 0.72789463,  1.4854577 ,  0.27679745, -0.82354056],\n",
              "       [-0.08000222,  0.41719471, -0.54531758,  1.14373897],\n",
              "       [ 0.82516145, -2.30527999, -0.19362362,  0.2329293 ],\n",
              "       [ 0.44556296, -0.24262215, -1.16548727,  0.30718107]])"
            ]
          },
          "metadata": {},
          "execution_count": 14
        }
      ]
    },
    {
      "cell_type": "code",
      "source": [
        "a[::3]"
      ],
      "metadata": {
        "colab": {
          "base_uri": "https://localhost:8080/"
        },
        "id": "YR31tfc_l1CP",
        "outputId": "dd17a914-9710-4894-a350-f9becd60e2a9"
      },
      "execution_count": 15,
      "outputs": [
        {
          "output_type": "execute_result",
          "data": {
            "text/plain": [
              "array([[ 0.72789463,  1.4854577 ,  0.27679745, -0.82354056],\n",
              "       [ 0.44556296, -0.24262215, -1.16548727,  0.30718107]])"
            ]
          },
          "metadata": {},
          "execution_count": 15
        }
      ]
    },
    {
      "cell_type": "code",
      "source": [
        "# 2nd & 4th row\n",
        "a[1::2]"
      ],
      "metadata": {
        "colab": {
          "base_uri": "https://localhost:8080/"
        },
        "id": "W7DRV54GmK8U",
        "outputId": "9f57eb2c-d828-4ef9-bae3-b5fade3bb54e"
      },
      "execution_count": 16,
      "outputs": [
        {
          "output_type": "execute_result",
          "data": {
            "text/plain": [
              "array([[-0.08000222,  0.41719471, -0.54531758,  1.14373897],\n",
              "       [ 0.44556296, -0.24262215, -1.16548727,  0.30718107]])"
            ]
          },
          "metadata": {},
          "execution_count": 16
        }
      ]
    },
    {
      "cell_type": "code",
      "source": [
        "# last 3 rows\n",
        "a[1::]"
      ],
      "metadata": {
        "colab": {
          "base_uri": "https://localhost:8080/"
        },
        "id": "TnTDkbmSmWcv",
        "outputId": "fecc7e2a-d7a0-472b-df72-0efc56220041"
      },
      "execution_count": 17,
      "outputs": [
        {
          "output_type": "execute_result",
          "data": {
            "text/plain": [
              "array([[-0.08000222,  0.41719471, -0.54531758,  1.14373897],\n",
              "       [ 0.82516145, -2.30527999, -0.19362362,  0.2329293 ],\n",
              "       [ 0.44556296, -0.24262215, -1.16548727,  0.30718107]])"
            ]
          },
          "metadata": {},
          "execution_count": 17
        }
      ]
    },
    {
      "cell_type": "code",
      "source": [],
      "metadata": {
        "id": "B7FzE2ICmzdf"
      },
      "execution_count": null,
      "outputs": []
    },
    {
      "cell_type": "markdown",
      "source": [
        "# Assignment\n",
        "(B)"
      ],
      "metadata": {
        "id": "TLXez1lom60b"
      }
    },
    {
      "cell_type": "code",
      "source": [
        "# access corner elements\n",
        "a"
      ],
      "metadata": {
        "colab": {
          "base_uri": "https://localhost:8080/"
        },
        "id": "PH8lbXRJm_lX",
        "outputId": "43e46d72-89ad-4503-fec9-f0de71ea8a20"
      },
      "execution_count": 18,
      "outputs": [
        {
          "output_type": "execute_result",
          "data": {
            "text/plain": [
              "array([[ 0.72789463,  1.4854577 ,  0.27679745, -0.82354056],\n",
              "       [-0.08000222,  0.41719471, -0.54531758,  1.14373897],\n",
              "       [ 0.82516145, -2.30527999, -0.19362362,  0.2329293 ],\n",
              "       [ 0.44556296, -0.24262215, -1.16548727,  0.30718107]])"
            ]
          },
          "metadata": {},
          "execution_count": 18
        }
      ]
    },
    {
      "cell_type": "code",
      "source": [
        "a[[0,-1]][:,[0,-1]]"
      ],
      "metadata": {
        "colab": {
          "base_uri": "https://localhost:8080/"
        },
        "id": "tS7SC3zhsuDp",
        "outputId": "38033898-4517-4df2-e4cd-2424bcb44d69"
      },
      "execution_count": 19,
      "outputs": [
        {
          "output_type": "execute_result",
          "data": {
            "text/plain": [
              "array([[ 0.72789463, -0.82354056],\n",
              "       [ 0.44556296,  0.30718107]])"
            ]
          },
          "metadata": {},
          "execution_count": 19
        }
      ]
    },
    {
      "cell_type": "code",
      "source": [
        "# diagonal elements\n",
        "np.diag(a)"
      ],
      "metadata": {
        "colab": {
          "base_uri": "https://localhost:8080/"
        },
        "id": "GlLDmRCruIE7",
        "outputId": "80dc485d-b0f9-48d6-e707-02fc7bb4eabf"
      },
      "execution_count": 26,
      "outputs": [
        {
          "output_type": "execute_result",
          "data": {
            "text/plain": [
              "array([ 0.72789463,  0.41719471, -0.19362362,  0.30718107])"
            ]
          },
          "metadata": {},
          "execution_count": 26
        }
      ]
    },
    {
      "cell_type": "code",
      "source": [
        "# access middle 2 columns and all rows\n",
        "a[:,1:3]"
      ],
      "metadata": {
        "colab": {
          "base_uri": "https://localhost:8080/"
        },
        "id": "HsOu9BwgGXE9",
        "outputId": "46c677b5-7ccb-4ca7-afac-56da3b2de8f4"
      },
      "execution_count": 30,
      "outputs": [
        {
          "output_type": "execute_result",
          "data": {
            "text/plain": [
              "array([[ 1.4854577 ,  0.27679745],\n",
              "       [ 0.41719471, -0.54531758],\n",
              "       [-2.30527999, -0.19362362],\n",
              "       [-0.24262215, -1.16548727]])"
            ]
          },
          "metadata": {},
          "execution_count": 30
        }
      ]
    },
    {
      "cell_type": "code",
      "source": [
        "# access last 2 rows and its first 2 values from each row\n",
        "a"
      ],
      "metadata": {
        "colab": {
          "base_uri": "https://localhost:8080/"
        },
        "id": "pytXPl-3IgWE",
        "outputId": "5d91c853-a2a7-4820-dc37-69db9f1d1e2c"
      },
      "execution_count": 31,
      "outputs": [
        {
          "output_type": "execute_result",
          "data": {
            "text/plain": [
              "array([[ 0.72789463,  1.4854577 ,  0.27679745, -0.82354056],\n",
              "       [-0.08000222,  0.41719471, -0.54531758,  1.14373897],\n",
              "       [ 0.82516145, -2.30527999, -0.19362362,  0.2329293 ],\n",
              "       [ 0.44556296, -0.24262215, -1.16548727,  0.30718107]])"
            ]
          },
          "metadata": {},
          "execution_count": 31
        }
      ]
    },
    {
      "cell_type": "code",
      "source": [
        "a[2,0],a[3,0]"
      ],
      "metadata": {
        "colab": {
          "base_uri": "https://localhost:8080/"
        },
        "id": "h46uFuEfI7fs",
        "outputId": "fa3b8b56-76d2-4e6b-8011-358ecb2eb8dc"
      },
      "execution_count": 62,
      "outputs": [
        {
          "output_type": "execute_result",
          "data": {
            "text/plain": [
              "(0.8251614469302297, 0.445562960980659)"
            ]
          },
          "metadata": {},
          "execution_count": 62
        }
      ]
    },
    {
      "cell_type": "code",
      "source": [
        "# reverse rows and columns as well\n",
        "a[::-1] # reverse rows"
      ],
      "metadata": {
        "colab": {
          "base_uri": "https://localhost:8080/"
        },
        "id": "XDHEU_yQJXEN",
        "outputId": "6c26fc81-c9ab-4cc4-cbf7-4153b930122d"
      },
      "execution_count": 64,
      "outputs": [
        {
          "output_type": "execute_result",
          "data": {
            "text/plain": [
              "array([[ 0.44556296, -0.24262215, -1.16548727,  0.30718107],\n",
              "       [ 0.82516145, -2.30527999, -0.19362362,  0.2329293 ],\n",
              "       [-0.08000222,  0.41719471, -0.54531758,  1.14373897],\n",
              "       [ 0.72789463,  1.4854577 ,  0.27679745, -0.82354056]])"
            ]
          },
          "metadata": {},
          "execution_count": 64
        }
      ]
    },
    {
      "cell_type": "code",
      "source": [
        "a[:,::-1] # reverse columns"
      ],
      "metadata": {
        "colab": {
          "base_uri": "https://localhost:8080/"
        },
        "id": "RRWUSDFdWgEz",
        "outputId": "34a1bb0b-e011-4c06-b911-90c29a1f0074"
      },
      "execution_count": 67,
      "outputs": [
        {
          "output_type": "execute_result",
          "data": {
            "text/plain": [
              "array([[-0.82354056,  0.27679745,  1.4854577 ,  0.72789463],\n",
              "       [ 1.14373897, -0.54531758,  0.41719471, -0.08000222],\n",
              "       [ 0.2329293 , -0.19362362, -2.30527999,  0.82516145],\n",
              "       [ 0.30718107, -1.16548727, -0.24262215,  0.44556296]])"
            ]
          },
          "metadata": {},
          "execution_count": 67
        }
      ]
    },
    {
      "cell_type": "code",
      "source": [
        "# reshape() vs resize()\n",
        "# reshape() : the reshape() returns changed array does not changes the original array.\n",
        "# resize() : the resize() method returns nothing and directly changes the original array.\n",
        "a = np.random.randn(4,4)"
      ],
      "metadata": {
        "id": "xH6wsUzCWwgD"
      },
      "execution_count": 71,
      "outputs": []
    },
    {
      "cell_type": "code",
      "source": [
        "a"
      ],
      "metadata": {
        "colab": {
          "base_uri": "https://localhost:8080/"
        },
        "id": "WMsdlXf1YCeF",
        "outputId": "fbef5d5c-cdf0-4934-889c-f244122c20ba"
      },
      "execution_count": 72,
      "outputs": [
        {
          "output_type": "execute_result",
          "data": {
            "text/plain": [
              "array([[-1.21880629, -0.59415676, -0.27692836,  1.25485509],\n",
              "       [ 0.89070716,  1.08530803, -0.45760746, -0.70554781],\n",
              "       [ 0.48262003,  1.80541007, -0.01236325, -0.30400309],\n",
              "       [-1.24055653, -1.50318181,  0.86316236,  0.19652657]])"
            ]
          },
          "metadata": {},
          "execution_count": 72
        }
      ]
    },
    {
      "cell_type": "code",
      "source": [
        "a.reshape(2,4,2) # reshaped array"
      ],
      "metadata": {
        "colab": {
          "base_uri": "https://localhost:8080/"
        },
        "id": "pCiz9ijHYaIr",
        "outputId": "f1c3c99a-3888-4994-f453-be6e12a5bc17"
      },
      "execution_count": 76,
      "outputs": [
        {
          "output_type": "execute_result",
          "data": {
            "text/plain": [
              "array([[[-1.21880629, -0.59415676],\n",
              "        [-0.27692836,  1.25485509],\n",
              "        [ 0.89070716,  1.08530803],\n",
              "        [-0.45760746, -0.70554781]],\n",
              "\n",
              "       [[ 0.48262003,  1.80541007],\n",
              "        [-0.01236325, -0.30400309],\n",
              "        [-1.24055653, -1.50318181],\n",
              "        [ 0.86316236,  0.19652657]]])"
            ]
          },
          "metadata": {},
          "execution_count": 76
        }
      ]
    },
    {
      "cell_type": "code",
      "source": [
        "a # oringinal stays as it is"
      ],
      "metadata": {
        "colab": {
          "base_uri": "https://localhost:8080/"
        },
        "id": "zCGO6hyUYhdg",
        "outputId": "81bda7d1-037e-4f6d-8b04-97a834a3ed65"
      },
      "execution_count": 77,
      "outputs": [
        {
          "output_type": "execute_result",
          "data": {
            "text/plain": [
              "array([[-1.21880629, -0.59415676, -0.27692836,  1.25485509],\n",
              "       [ 0.89070716,  1.08530803, -0.45760746, -0.70554781],\n",
              "       [ 0.48262003,  1.80541007, -0.01236325, -0.30400309],\n",
              "       [-1.24055653, -1.50318181,  0.86316236,  0.19652657]])"
            ]
          },
          "metadata": {},
          "execution_count": 77
        }
      ]
    },
    {
      "cell_type": "code",
      "source": [
        "a.resize(2,4,2)"
      ],
      "metadata": {
        "id": "zyMULJwWY4Gh"
      },
      "execution_count": 78,
      "outputs": []
    },
    {
      "cell_type": "code",
      "source": [
        "a # resized array"
      ],
      "metadata": {
        "colab": {
          "base_uri": "https://localhost:8080/"
        },
        "id": "3cFnarrqZPmP",
        "outputId": "37d9c437-b2ca-4a58-f8d0-4e4cea60941d"
      },
      "execution_count": 79,
      "outputs": [
        {
          "output_type": "execute_result",
          "data": {
            "text/plain": [
              "array([[[-1.21880629, -0.59415676],\n",
              "        [-0.27692836,  1.25485509],\n",
              "        [ 0.89070716,  1.08530803],\n",
              "        [-0.45760746, -0.70554781]],\n",
              "\n",
              "       [[ 0.48262003,  1.80541007],\n",
              "        [-0.01236325, -0.30400309],\n",
              "        [-1.24055653, -1.50318181],\n",
              "        [ 0.86316236,  0.19652657]]])"
            ]
          },
          "metadata": {},
          "execution_count": 79
        }
      ]
    },
    {
      "cell_type": "code",
      "source": [
        "a # original array size has been changed permanently."
      ],
      "metadata": {
        "colab": {
          "base_uri": "https://localhost:8080/"
        },
        "id": "7R2IPXKuZQxb",
        "outputId": "4372ae9a-8e3a-4190-c65d-085036041d28"
      },
      "execution_count": 80,
      "outputs": [
        {
          "output_type": "execute_result",
          "data": {
            "text/plain": [
              "array([[[-1.21880629, -0.59415676],\n",
              "        [-0.27692836,  1.25485509],\n",
              "        [ 0.89070716,  1.08530803],\n",
              "        [-0.45760746, -0.70554781]],\n",
              "\n",
              "       [[ 0.48262003,  1.80541007],\n",
              "        [-0.01236325, -0.30400309],\n",
              "        [-1.24055653, -1.50318181],\n",
              "        [ 0.86316236,  0.19652657]]])"
            ]
          },
          "metadata": {},
          "execution_count": 80
        }
      ]
    },
    {
      "cell_type": "code",
      "source": [],
      "metadata": {
        "id": "CMpk1Rk8ZYdP"
      },
      "execution_count": null,
      "outputs": []
    }
  ]
}