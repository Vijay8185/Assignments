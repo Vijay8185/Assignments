{
  "nbformat": 4,
  "nbformat_minor": 0,
  "metadata": {
    "colab": {
      "provenance": [],
      "authorship_tag": "ABX9TyPhrk9l7M5JBTgtwsBCairD",
      "include_colab_link": true
    },
    "kernelspec": {
      "name": "python3",
      "display_name": "Python 3"
    },
    "language_info": {
      "name": "python"
    }
  },
  "cells": [
    {
      "cell_type": "markdown",
      "metadata": {
        "id": "view-in-github",
        "colab_type": "text"
      },
      "source": [
        "<a href=\"https://colab.research.google.com/github/Vijay8185/Assignments/blob/100-Days-of-code/BMI_Calculator.ipynb\" target=\"_parent\"><img src=\"https://colab.research.google.com/assets/colab-badge.svg\" alt=\"Open In Colab\"/></a>"
      ]
    },
    {
      "cell_type": "code",
      "execution_count": null,
      "metadata": {
        "colab": {
          "base_uri": "https://localhost:8080/"
        },
        "id": "y5rRwBrVis31",
        "outputId": "76b27d04-6e28-4fed-b9df-77a45548d52a"
      },
      "outputs": [
        {
          "output_type": "stream",
          "name": "stdout",
          "text": [
            "1.70\n",
            "67\n",
            "23.18339100346021\n"
          ]
        }
      ],
      "source": [
        "height_meters = float(input())\n",
        "weight_kgs = int(input())\n",
        "BMI = print((weight_kgs) / ((height_meters) * (height_meters)))"
      ]
    },
    {
      "cell_type": "code",
      "source": [],
      "metadata": {
        "id": "PHbx6fZni4x7"
      },
      "execution_count": null,
      "outputs": []
    }
  ]
}