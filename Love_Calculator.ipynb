{
  "nbformat": 4,
  "nbformat_minor": 0,
  "metadata": {
    "colab": {
      "provenance": [],
      "authorship_tag": "ABX9TyMexwOmWaGllkM8/8aOr7m6",
      "include_colab_link": true
    },
    "kernelspec": {
      "name": "python3",
      "display_name": "Python 3"
    },
    "language_info": {
      "name": "python"
    }
  },
  "cells": [
    {
      "cell_type": "markdown",
      "metadata": {
        "id": "view-in-github",
        "colab_type": "text"
      },
      "source": [
        "<a href=\"https://colab.research.google.com/github/Vijay8185/Assignments/blob/100-Days-of-code/Love_Calculator.ipynb\" target=\"_parent\"><img src=\"https://colab.research.google.com/assets/colab-badge.svg\" alt=\"Open In Colab\"/></a>"
      ]
    },
    {
      "cell_type": "code",
      "execution_count": 3,
      "metadata": {
        "colab": {
          "base_uri": "https://localhost:8080/"
        },
        "id": "twGHFewGU30E",
        "outputId": "33f945b4-efec-401d-fa43-59caaed2240a"
      },
      "outputs": [
        {
          "output_type": "stream",
          "name": "stdout",
          "text": [
            "Love Calculator is calculating your score.....\n",
            "Virat Kohli\n",
            "Anushka Sharma\n",
            "your score is 43, you are alright together.\n"
          ]
        }
      ],
      "source": [
        "print('Love Calculator is calculating your score.....')\n",
        "name1 = input()\n",
        "name2 = input()\n",
        "\n",
        "combined_names = name1 + name2\n",
        "lower_names = combined_names.lower()\n",
        "\n",
        "t = lower_names.count('t')\n",
        "r = lower_names.count('r')\n",
        "u = lower_names.count('u')\n",
        "e = lower_names.count('e')\n",
        "first_digit = t + r + u + e\n",
        "\n",
        "l = lower_names.count('l')\n",
        "o = lower_names.count('o')\n",
        "v = lower_names.count('v')\n",
        "e = lower_names.count('e')\n",
        "second_digit = l + o + v + e\n",
        "\n",
        "score = int(str(first_digit) + str(second_digit))\n",
        "\n",
        "if (score < 10 ) or (score > 90):\n",
        "  print(f\"your score is {score}, you go together like coke and mentos.\")\n",
        "elif (score >= 40) or (score <= 50):\n",
        "  print(f\"your score is {score}, you are alright together.\")\n",
        "else:\n",
        "  print(f\"your score is {score}.\")"
      ]
    },
    {
      "cell_type": "code",
      "source": [],
      "metadata": {
        "id": "Lfyv5fsWW3fe"
      },
      "execution_count": null,
      "outputs": []
    }
  ]
}